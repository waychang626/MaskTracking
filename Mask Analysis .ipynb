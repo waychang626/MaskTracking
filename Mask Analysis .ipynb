{
 "cells": [
  {
   "cell_type": "markdown",
   "metadata": {},
   "source": [
    "## Import"
   ]
  },
  {
   "cell_type": "code",
   "execution_count": 131,
   "metadata": {},
   "outputs": [],
   "source": [
    "## import\n",
    "import numpy as np \n",
    "import pandas as pd \n",
    "import seaborn as sns \n",
    "import matplotlib.pyplot as plt \n",
    "from sklearn.model_selection import train_test_split\n",
    "from sklearn import datasets, linear_model\n",
    "from sklearn.metrics import mean_squared_error, r2_score\n",
    "from sklearn import preprocessing\n",
    "from sklearn.linear_model import LogisticRegression\n",
    "from sklearn.metrics import classification_report, confusion_matrix\n",
    "pd.options.mode.chained_assignment = None  # default='warn'\n"
   ]
  },
  {
   "cell_type": "markdown",
   "metadata": {},
   "source": [
    "## Data Cleaning/ Merging "
   ]
  },
  {
   "cell_type": "code",
   "execution_count": 2,
   "metadata": {},
   "outputs": [],
   "source": [
    "## reading in datasets \n",
    "df_mask = pd.read_csv('data/mask-use-by-county.csv')\n",
    "df_votes = pd.read_csv('data/president_county.csv')\n",
    "df_results = pd.read_csv('data/president_county_candidate.csv')\n",
    "df_county = pd.read_csv('data/data.csv', encoding = 'ISO-8859-1')"
   ]
  },
  {
   "cell_type": "markdown",
   "metadata": {},
   "source": [
    "To merge these data sets, we need an index that appoints counties to the county FP (or vice versa).  \n",
    "Furthermore, df_results needs to be transformed into just Biden and Trump by voting percentage (acheivable by using the total votes in df_votes)."
   ]
  },
  {
   "cell_type": "code",
   "execution_count": 3,
   "metadata": {},
   "outputs": [],
   "source": [
    "## joining df_mask and df_county on fips code \n",
    "df_mask = df_mask.rename(columns= {'COUNTYFP':'fips'})"
   ]
  },
  {
   "cell_type": "code",
   "execution_count": 4,
   "metadata": {},
   "outputs": [],
   "source": [
    "## cleaning df_county to only useful columns \n",
    "df_county = df_county[['fips', 'state_name', 'county_name']]"
   ]
  },
  {
   "cell_type": "code",
   "execution_count": 5,
   "metadata": {},
   "outputs": [],
   "source": [
    "df_mask = df_mask.merge(df_county, left_on='fips', right_on='fips', suffixes=('_left', '_right'))"
   ]
  },
  {
   "cell_type": "code",
   "execution_count": 6,
   "metadata": {},
   "outputs": [],
   "source": [
    "## retaining only useful columns \n",
    "df_mask = df_mask[['fips', 'NEVER', 'RARELY', 'SOMETIMES', 'FREQUENTLY', 'ALWAYS']]"
   ]
  },
  {
   "cell_type": "code",
   "execution_count": 7,
   "metadata": {},
   "outputs": [],
   "source": [
    "df_results = df_results.merge(df_votes, left_on=['state', 'county'], right_on=['state', 'county'], suffixes=('_left', '_right') )"
   ]
  },
  {
   "cell_type": "code",
   "execution_count": 8,
   "metadata": {},
   "outputs": [],
   "source": [
    "## try to get fips on df_results \n",
    "df_results = df_results.merge(df_county, left_on=['state', 'county'], right_on=['state_name', 'county_name'])"
   ]
  },
  {
   "cell_type": "code",
   "execution_count": 9,
   "metadata": {
    "scrolled": true
   },
   "outputs": [],
   "source": [
    "## retaining only useful columns \n",
    "df_results = df_results[['fips', 'state', 'county', 'candidate', 'won', 'total_votes_left', 'total_votes_right' ]]\n",
    "\n"
   ]
  },
  {
   "cell_type": "code",
   "execution_count": 10,
   "metadata": {},
   "outputs": [],
   "source": [
    "## obtaining voted percentage in the election \n",
    "df_results['percentage'] = df_results['total_votes_left'] / df_results['total_votes_right']"
   ]
  },
  {
   "cell_type": "code",
   "execution_count": 11,
   "metadata": {},
   "outputs": [],
   "source": [
    "## merging results with mask wearing percentage \n",
    "df_results = df_results.merge(df_mask, left_on='fips', right_on='fips',suffixes=('_left', '_right') )"
   ]
  },
  {
   "cell_type": "code",
   "execution_count": 12,
   "metadata": {},
   "outputs": [],
   "source": [
    "## obtaining df_biden and df_trump\n",
    "df_biden = df_results[df_results['candidate'] == 'Joe Biden']\n",
    "df_trump = df_results[df_results['candidate'] == 'Donald Trump']"
   ]
  },
  {
   "cell_type": "markdown",
   "metadata": {},
   "source": [
    "## Analysis "
   ]
  },
  {
   "cell_type": "markdown",
   "metadata": {},
   "source": [
    "First, I intend to find if they is a strong correlation between likiness to wear mask and voting for a presidential candidate. I will conduct two linear regressions, one for each of Biden and Trump. The independent variable will be the percentage of people in a county that has a positive response to mask wearing, done so by adding 'Frequently' and 'Always' together.    \n",
    "  \n",
    "I choose to do this over using every mask wearing frequency as the independent variable because, obviously, the independent variables would add up to 1.   \n",
    "\n",
    "The dependent variable is the voting percentage for a certain candidate"
   ]
  },
  {
   "cell_type": "markdown",
   "metadata": {},
   "source": [
    "### Linear Regression for Biden"
   ]
  },
  {
   "cell_type": "code",
   "execution_count": 13,
   "metadata": {},
   "outputs": [],
   "source": [
    "## getting column for positive response to wearing mask \n",
    "df_trump['positive_mask_wearing'] = df_trump['FREQUENTLY'] + df_trump['ALWAYS']\n",
    "df_biden['positive_mask_wearing'] = df_biden['FREQUENTLY'] + df_biden['ALWAYS']"
   ]
  },
  {
   "cell_type": "code",
   "execution_count": 14,
   "metadata": {
    "scrolled": true
   },
   "outputs": [
    {
     "data": {
      "text/html": [
       "<div>\n",
       "<style scoped>\n",
       "    .dataframe tbody tr th:only-of-type {\n",
       "        vertical-align: middle;\n",
       "    }\n",
       "\n",
       "    .dataframe tbody tr th {\n",
       "        vertical-align: top;\n",
       "    }\n",
       "\n",
       "    .dataframe thead th {\n",
       "        text-align: right;\n",
       "    }\n",
       "</style>\n",
       "<table border=\"1\" class=\"dataframe\">\n",
       "  <thead>\n",
       "    <tr style=\"text-align: right;\">\n",
       "      <th></th>\n",
       "      <th>fips</th>\n",
       "      <th>total_votes_left</th>\n",
       "      <th>total_votes_right</th>\n",
       "      <th>percentage</th>\n",
       "      <th>NEVER</th>\n",
       "      <th>RARELY</th>\n",
       "      <th>SOMETIMES</th>\n",
       "      <th>FREQUENTLY</th>\n",
       "      <th>ALWAYS</th>\n",
       "      <th>positive_mask_wearing</th>\n",
       "    </tr>\n",
       "  </thead>\n",
       "  <tbody>\n",
       "    <tr>\n",
       "      <th>count</th>\n",
       "      <td>3046.000000</td>\n",
       "      <td>3.046000e+03</td>\n",
       "      <td>3.046000e+03</td>\n",
       "      <td>3046.000000</td>\n",
       "      <td>3046.000000</td>\n",
       "      <td>3046.000000</td>\n",
       "      <td>3046.000000</td>\n",
       "      <td>3046.000000</td>\n",
       "      <td>3046.00000</td>\n",
       "      <td>3046.000000</td>\n",
       "    </tr>\n",
       "    <tr>\n",
       "      <th>mean</th>\n",
       "      <td>30637.943204</td>\n",
       "      <td>2.496245e+04</td>\n",
       "      <td>4.909142e+04</td>\n",
       "      <td>0.334712</td>\n",
       "      <td>0.081112</td>\n",
       "      <td>0.083880</td>\n",
       "      <td>0.122826</td>\n",
       "      <td>0.207667</td>\n",
       "      <td>0.50451</td>\n",
       "      <td>0.712177</td>\n",
       "    </tr>\n",
       "    <tr>\n",
       "      <th>std</th>\n",
       "      <td>15034.574989</td>\n",
       "      <td>9.694033e+04</td>\n",
       "      <td>1.499820e+05</td>\n",
       "      <td>0.260949</td>\n",
       "      <td>0.058875</td>\n",
       "      <td>0.055559</td>\n",
       "      <td>0.057711</td>\n",
       "      <td>0.061820</td>\n",
       "      <td>0.15079</td>\n",
       "      <td>0.130671</td>\n",
       "    </tr>\n",
       "    <tr>\n",
       "      <th>min</th>\n",
       "      <td>1001.000000</td>\n",
       "      <td>4.000000e+00</td>\n",
       "      <td>6.600000e+01</td>\n",
       "      <td>0.030909</td>\n",
       "      <td>0.000000</td>\n",
       "      <td>0.000000</td>\n",
       "      <td>0.001000</td>\n",
       "      <td>0.029000</td>\n",
       "      <td>0.11500</td>\n",
       "      <td>0.255000</td>\n",
       "    </tr>\n",
       "    <tr>\n",
       "      <th>25%</th>\n",
       "      <td>19015.500000</td>\n",
       "      <td>1.261000e+03</td>\n",
       "      <td>5.251250e+03</td>\n",
       "      <td>0.207871</td>\n",
       "      <td>0.034000</td>\n",
       "      <td>0.041000</td>\n",
       "      <td>0.081000</td>\n",
       "      <td>0.165000</td>\n",
       "      <td>0.39200</td>\n",
       "      <td>0.620000</td>\n",
       "    </tr>\n",
       "    <tr>\n",
       "      <th>50%</th>\n",
       "      <td>29214.000000</td>\n",
       "      <td>3.562500e+03</td>\n",
       "      <td>1.213750e+04</td>\n",
       "      <td>0.296415</td>\n",
       "      <td>0.070000</td>\n",
       "      <td>0.074000</td>\n",
       "      <td>0.117000</td>\n",
       "      <td>0.205000</td>\n",
       "      <td>0.49500</td>\n",
       "      <td>0.718000</td>\n",
       "    </tr>\n",
       "    <tr>\n",
       "      <th>75%</th>\n",
       "      <td>46010.500000</td>\n",
       "      <td>1.122400e+04</td>\n",
       "      <td>3.221725e+04</td>\n",
       "      <td>0.417602</td>\n",
       "      <td>0.116000</td>\n",
       "      <td>0.116000</td>\n",
       "      <td>0.158000</td>\n",
       "      <td>0.247000</td>\n",
       "      <td>0.61000</td>\n",
       "      <td>0.815000</td>\n",
       "    </tr>\n",
       "    <tr>\n",
       "      <th>max</th>\n",
       "      <td>56045.000000</td>\n",
       "      <td>3.028885e+06</td>\n",
       "      <td>4.263443e+06</td>\n",
       "      <td>9.532468</td>\n",
       "      <td>0.432000</td>\n",
       "      <td>0.384000</td>\n",
       "      <td>0.422000</td>\n",
       "      <td>0.549000</td>\n",
       "      <td>0.88900</td>\n",
       "      <td>0.992000</td>\n",
       "    </tr>\n",
       "  </tbody>\n",
       "</table>\n",
       "</div>"
      ],
      "text/plain": [
       "               fips  total_votes_left  total_votes_right   percentage  \\\n",
       "count   3046.000000      3.046000e+03       3.046000e+03  3046.000000   \n",
       "mean   30637.943204      2.496245e+04       4.909142e+04     0.334712   \n",
       "std    15034.574989      9.694033e+04       1.499820e+05     0.260949   \n",
       "min     1001.000000      4.000000e+00       6.600000e+01     0.030909   \n",
       "25%    19015.500000      1.261000e+03       5.251250e+03     0.207871   \n",
       "50%    29214.000000      3.562500e+03       1.213750e+04     0.296415   \n",
       "75%    46010.500000      1.122400e+04       3.221725e+04     0.417602   \n",
       "max    56045.000000      3.028885e+06       4.263443e+06     9.532468   \n",
       "\n",
       "             NEVER       RARELY    SOMETIMES   FREQUENTLY      ALWAYS  \\\n",
       "count  3046.000000  3046.000000  3046.000000  3046.000000  3046.00000   \n",
       "mean      0.081112     0.083880     0.122826     0.207667     0.50451   \n",
       "std       0.058875     0.055559     0.057711     0.061820     0.15079   \n",
       "min       0.000000     0.000000     0.001000     0.029000     0.11500   \n",
       "25%       0.034000     0.041000     0.081000     0.165000     0.39200   \n",
       "50%       0.070000     0.074000     0.117000     0.205000     0.49500   \n",
       "75%       0.116000     0.116000     0.158000     0.247000     0.61000   \n",
       "max       0.432000     0.384000     0.422000     0.549000     0.88900   \n",
       "\n",
       "       positive_mask_wearing  \n",
       "count            3046.000000  \n",
       "mean                0.712177  \n",
       "std                 0.130671  \n",
       "min                 0.255000  \n",
       "25%                 0.620000  \n",
       "50%                 0.718000  \n",
       "75%                 0.815000  \n",
       "max                 0.992000  "
      ]
     },
     "execution_count": 14,
     "metadata": {},
     "output_type": "execute_result"
    }
   ],
   "source": [
    "df_biden.describe()"
   ]
  },
  {
   "cell_type": "code",
   "execution_count": 169,
   "metadata": {},
   "outputs": [],
   "source": [
    "## obtain X and Y arrays from dataset \n",
    "X_biden = np.array(df_biden['positive_mask_wearing']).reshape(-1, 1)\n",
    "y_biden = np.array(df_biden['percentage']).reshape(-1, 1)"
   ]
  },
  {
   "cell_type": "code",
   "execution_count": 170,
   "metadata": {},
   "outputs": [],
   "source": [
    "X_train_biden, X_test_biden, y_train_biden, y_test_biden = train_test_split(\n",
    "X_biden, y_biden, test_size=0.2, random_state = 1)"
   ]
  },
  {
   "cell_type": "code",
   "execution_count": 171,
   "metadata": {},
   "outputs": [],
   "source": [
    "regression_biden = linear_model.LinearRegression()"
   ]
  },
  {
   "cell_type": "code",
   "execution_count": 172,
   "metadata": {},
   "outputs": [],
   "source": [
    "## make regression\n",
    "regression_biden.fit(X_train_biden, y_train_biden)\n",
    "\n",
    "##prediction\n",
    "biden_pred = regression_biden.predict(X_test_biden)"
   ]
  },
  {
   "cell_type": "code",
   "execution_count": 173,
   "metadata": {
    "scrolled": true
   },
   "outputs": [
    {
     "name": "stdout",
     "output_type": "stream",
     "text": [
      "Coefficients: \n",
      " [[0.5639044]]\n",
      "Mean squared error: 0.02\n",
      "Coefficient of determination: 0.26\n"
     ]
    }
   ],
   "source": [
    "# The coefficients\n",
    "print('Coefficients: \\n', regression_biden.coef_)\n",
    "# The mean squared error\n",
    "print('Mean squared error: %.2f'\n",
    "      % mean_squared_error(y_test_biden, biden_pred))\n",
    "# The coefficient of determination: 1 is perfect prediction\n",
    "print('Coefficient of determination: %.2f'\n",
    "      % r2_score(y_test_biden, biden_pred))"
   ]
  },
  {
   "cell_type": "code",
   "execution_count": 175,
   "metadata": {},
   "outputs": [
    {
     "data": {
      "text/plain": [
       "Text(0, 0.5, '% of county voting for biden')"
      ]
     },
     "execution_count": 175,
     "metadata": {},
     "output_type": "execute_result"
    },
    {
     "data": {
      "image/png": "[encoded data removed]",
      "text/plain": [
       "<Figure size 432x288 with 1 Axes>"
      ]
     },
     "metadata": {
      "needs_background": "light"
     },
     "output_type": "display_data"
    }
   ],
   "source": [
    "##plotting \n",
    "plt.scatter(X_test_biden, y_test_biden, c = 'r', alpha = .5)\n",
    "plt.plot(X_test_biden, biden_pred, c = 'b', linewidth=2)\n",
    "plt.title('Voting for Biden vs Wearing Mask ')\n",
    "plt.xlabel(\"% of county's frequency of positive mask wearing\")\n",
    "plt.ylabel('% of county voting for biden')"
   ]
  },
  {
   "cell_type": "code",
   "execution_count": 176,
   "metadata": {
    "scrolled": true
   },
   "outputs": [
    {
     "name": "stdout",
     "output_type": "stream",
     "text": [
      "Linear model: percentage of voting for biden =[-0.07460831] + [0.57474506] * positive mask wearing\n"
     ]
    }
   ],
   "source": [
    "## Cogs109's way of linear regression \n",
    "ones = np.ones((3046,1))\n",
    "A_biden = np.hstack((ones, X_biden))\n",
    "\n",
    "## solve for the weight vector \n",
    "w = np.linalg.lstsq(A_biden, y_biden, rcond=None)[0]\n",
    "\n",
    "print('Linear model: percentage of voting for biden ={first} + {second} * positive mask wearing'.format(first = w[0], second = w[1]))"
   ]
  },
  {
   "cell_type": "markdown",
   "metadata": {},
   "source": [
    "From both sklearn and manual least square calculation, we obtain a coefficient of around 0.56 for positive mask wearing. The y intercept is difficult to interpret intuitively, but it is unattainable because positive mask wearing is generally high enough at 0.71  \n",
    "\n"
   ]
  },
  {
   "cell_type": "markdown",
   "metadata": {},
   "source": [
    "### Linear Regression for Trump "
   ]
  },
  {
   "cell_type": "code",
   "execution_count": 189,
   "metadata": {},
   "outputs": [],
   "source": [
    "## obtain X and Y arrays from dataset \n",
    "X_trump = np.array(df_trump['positive_mask_wearing']).reshape(-1, 1)\n",
    "y_trump = np.array(df_trump['percentage']).reshape(-1, 1)\n",
    "\n",
    "## splitting to training and testing datasets \n",
    "X_train_trump, X_test_trump, y_train_trump, y_test_trump = train_test_split(\n",
    "X_trump, y_trump, test_size=0.2, random_state = 1)"
   ]
  },
  {
   "cell_type": "code",
   "execution_count": 190,
   "metadata": {},
   "outputs": [],
   "source": [
    "regression_trump = linear_model.LinearRegression()"
   ]
  },
  {
   "cell_type": "code",
   "execution_count": 191,
   "metadata": {},
   "outputs": [],
   "source": [
    "## make regression\n",
    "regression_trump.fit(X_train_trump, y_train_trump)\n",
    "\n",
    "##prediction\n",
    "trump_pred = regression_trump.predict(X_test_trump)"
   ]
  },
  {
   "cell_type": "code",
   "execution_count": 195,
   "metadata": {},
   "outputs": [
    {
     "name": "stdout",
     "output_type": "stream",
     "text": [
      "Coefficients: \n",
      " [[-0.75563936]]\n",
      "Mean squared error: 0.02\n",
      "Coefficient of determination: 0.24\n"
     ]
    }
   ],
   "source": [
    "# The coefficients\n",
    "print('Coefficients: \\n', regression_trump.coef_)\n",
    "# The mean squared error\n",
    "print('Mean squared error: %.2f'\n",
    "      % mean_squared_error(y_test_trump, trump_pred))\n",
    "# The coefficient of determination: 1 is perfect prediction\n",
    "print('Coefficient of determination: %.2f'\n",
    "      % r2_score(y_test_trump, trump_pred))"
   ]
  },
  {
   "cell_type": "markdown",
   "metadata": {},
   "source": [
    "Compared to the linear regression for biden, the linear regression for trump seems possess more correlation between mask wearing and voting percentage. The coefficient for positive mask wearing is -.755, meaning that on average, a county that sees more 0.01 increase in positive mask wearing sees a 0.00755 decrease in voting percentage for trump.  \n",
    "\n",
    "However, the Coefficient of determination for both models seems to be the same. In other words, the voting percentage for both models are affected by positive masking wearing in the same variability. Therefore, I will only use one candidate, hereby choosing biden, going forwards. "
   ]
  },
  {
   "cell_type": "markdown",
   "metadata": {},
   "source": [
    "\n",
    "This seems like a fitting model. However, upon reviewing df_biden's summary, I notice a unusual stat with the mean of percetage voted for biden = 0.33. It is strange not only because biden won the election, but he won it with a popular vote of 7 million, about 53%. This is because urban cities are generally more democratic, and small rural areas are generally more republican. Urban cities are also congregated in 1 or 2 counties, thus getting vastly outnumbered by the rural areas. This might create a confounding variable within the model. \n",
    "\n",
    "To bypass this, I will use the outcome of the election as the output instead. The dependent variable will be whether the candidate won the election or not, described by 0 or 1. A logistic regression will be used because it is mored suitable for categorical outcomes. "
   ]
  },
  {
   "cell_type": "markdown",
   "metadata": {},
   "source": [
    "### Logisitc Regression "
   ]
  },
  {
   "cell_type": "code",
   "execution_count": 149,
   "metadata": {},
   "outputs": [],
   "source": [
    "## prepare the dataframe for logistic regression \n",
    "df_biden['won'] = df_biden['won'] * 1\n"
   ]
  },
  {
   "cell_type": "code",
   "execution_count": 183,
   "metadata": {},
   "outputs": [],
   "source": [
    "## obtaining X and Y labels \n",
    "## using all mask wearing variables here to increase the model's predictability \n",
    "X_biden = np.array([df_biden['NEVER'], df_biden['RARELY'],df_biden['SOMETIMES'],df_biden['FREQUENTLY'],df_biden['ALWAYS']]).T\n",
    "y_biden = np.array(df_biden['won']).reshape((-1,))\n",
    "\n",
    "X_train_biden, X_test_biden, y_train_biden, y_test_biden = train_test_split(\n",
    "    X_biden, y_biden, test_size=0.2, random_state = 10)\n"
   ]
  },
  {
   "cell_type": "code",
   "execution_count": 184,
   "metadata": {},
   "outputs": [],
   "source": [
    "model = LogisticRegression()"
   ]
  },
  {
   "cell_type": "code",
   "execution_count": 185,
   "metadata": {},
   "outputs": [],
   "source": [
    "## make regression\n",
    "model.fit(X_train_biden, y_train_biden)\n",
    "\n",
    "##prediction\n",
    "biden_pred = model.predict(X_test_biden)"
   ]
  },
  {
   "cell_type": "code",
   "execution_count": 186,
   "metadata": {},
   "outputs": [
    {
     "name": "stdout",
     "output_type": "stream",
     "text": [
      "Accuracy of logistic regression classifier on test set: 0.88\n"
     ]
    }
   ],
   "source": [
    "##reporting model \n",
    "y_pred = model.predict(X_test_biden)\n",
    "print('Accuracy of logistic regression classifier on test set: {:.2f}'.format(model.score(X_test_biden, y_test_biden)))\n",
    "\n"
   ]
  },
  {
   "cell_type": "code",
   "execution_count": 187,
   "metadata": {},
   "outputs": [
    {
     "data": {
      "text/plain": [
       "array([[521,   8],\n",
       "       [ 67,  14]])"
      ]
     },
     "execution_count": 187,
     "metadata": {},
     "output_type": "execute_result"
    }
   ],
   "source": [
    "## confusion matrix \n",
    "cm = confusion_matrix(y_test_biden, y_pred)\n",
    "cm"
   ]
  },
  {
   "cell_type": "code",
   "execution_count": 188,
   "metadata": {},
   "outputs": [
    {
     "name": "stdout",
     "output_type": "stream",
     "text": [
      "              precision    recall  f1-score   support\n",
      "\n",
      "           0       0.89      0.98      0.93       529\n",
      "           1       0.64      0.17      0.27        81\n",
      "\n",
      "    accuracy                           0.88       610\n",
      "   macro avg       0.76      0.58      0.60       610\n",
      "weighted avg       0.85      0.88      0.85       610\n",
      "\n"
     ]
    }
   ],
   "source": [
    "print(classification_report(y_test_biden, y_pred))"
   ]
  },
  {
   "cell_type": "markdown",
   "metadata": {},
   "source": [
    "As we can see, the accuracy of the logisitic regression is fairly high at 0.88. However, we also see that while the model is very good at predicting counties not voting for biden, it is poor at predicting counties voting for biden. From the confusion matrix, a whopping 588 predictions are nos, outnumbering the predictions for yesses of 22 predictions.   This flaw may have emerged from, again, the disproportionate population in the counties, but to figure that out is beyound the scope of this class.   \n",
    "\n",
    "The performance of these two models are incomparable. The linear regression offers insight into how much percentage voted for biden changes with more mask wearing, and the logistic regression indicates how might mask wearing change the outcome of a county's election. "
   ]
  },
  {
   "cell_type": "markdown",
   "metadata": {},
   "source": [
    "## ML Analysis with KNN "
   ]
  },
  {
   "cell_type": "markdown",
   "metadata": {},
   "source": [
    "Now, I intend to train a KNN model to predict whether a county would vote for biden based on its mask wearing tendencies "
   ]
  },
  {
   "cell_type": "code",
   "execution_count": null,
   "metadata": {},
   "outputs": [],
   "source": []
  }
 ],
 "metadata": {
  "kernelspec": {
   "display_name": "Python 3",
   "language": "python",
   "name": "python3"
  },
  "language_info": {
   "codemirror_mode": {
    "name": "ipython",
    "version": 3
   },
   "file_extension": ".py",
   "mimetype": "text/x-python",
   "name": "python",
   "nbconvert_exporter": "python",
   "pygments_lexer": "ipython3",
   "version": "3.7.6"
  }
 },
 "nbformat": 4,
 "nbformat_minor": 4
}
