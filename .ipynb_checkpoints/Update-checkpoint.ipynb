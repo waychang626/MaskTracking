{
 "cells": [
  {
   "cell_type": "code",
   "execution_count": 341,
   "metadata": {},
   "outputs": [],
   "source": [
    "## import\n",
    "import numpy as np \n",
    "import pandas as pd \n",
    "import seaborn as sns \n",
    "import matplotlib.pyplot as plt \n",
    "from sklearn.model_selection import train_test_split\n",
    "from sklearn import datasets, linear_model\n",
    "from sklearn.metrics import mean_squared_error, r2_score\n",
    "from sklearn import preprocessing\n",
    "from sklearn.linear_model import LogisticRegression\n",
    "from sklearn.metrics import classification_report, confusion_matrix\n",
    "import statsmodels.api as sm\n",
    "pd.options.mode.chained_assignment = None  # default='warn'"
   ]
  },
  {
   "cell_type": "code",
   "execution_count": 342,
   "metadata": {},
   "outputs": [],
   "source": [
    "## reading in datasets \n",
    "df_mask = pd.read_csv('data/mask-use-by-county.csv')\n",
    "df_votes = pd.read_csv('data/president_county.csv') ## idk if we need\n",
    "df_results = pd.read_csv('data/president_county_candidate.csv')\n",
    "df_county = pd.read_csv('data/data.csv', encoding = 'ISO-8859-1')\n",
    "df_census = pd.read_csv('data/census.csv', encoding = 'ISO-8859-1')\n",
    "df_covid = pd.read_csv('data/total_covid.csv', names=[\"date\", \"county\", \"state\", \"fips\",\"total_cases\",\"total_deaths\"])"
   ]
  },
  {
   "cell_type": "code",
   "execution_count": 343,
   "metadata": {},
   "outputs": [
    {
     "name": "stdout",
     "output_type": "stream",
     "text": [
      "Mask Usage Data (3143, 5)\n",
      "Election Results Data (3193, 164)\n",
      "Census Population Data (3193, 2)\n",
      "Covid Results Data (3245, 5)\n"
     ]
    }
   ],
   "source": [
    "## Fixing the Data ... \n",
    "\n",
    "# df_county\n",
    "df_county = df_county[['fips', 'state_name', 'county_name']]\n",
    "\n",
    "# df_mask\n",
    "df_mask = df_mask.rename(columns= {'COUNTYFP':'fips'})\n",
    "df_mask = df_mask.merge(df_county, left_on='fips', right_on='fips')\n",
    "df_mask = df_mask[['fips','state_name','county_name','NEVER','RARELY','SOMETIMES','FREQUENTLY','ALWAYS']]\n",
    "df_mask.columns = ['fips','state','county','never','rarely','sometimes','frequently','always']\n",
    "df_mask['pos_mask_stat'] = (df_mask['frequently'] + df_mask['always'])/1\n",
    "df_mask['neg_mask_stat'] = (df_mask['never'] + df_mask['rarely']+ df_mask['sometimes'])/1\n",
    "df_mask = df_mask[['fips','state','county','pos_mask_stat','neg_mask_stat']]\n",
    "df_mask['county'] = df_mask['county'].str.lower()\n",
    "print('Mask Usage Data', df_mask.shape)\n",
    "\n",
    "# df_votes\n",
    "# df_results\n",
    "df_results = df_results.merge(df_votes, left_on=['state', 'county'], right_on=['state', 'county'], suffixes=('_left', '_right') )\n",
    "df_results = df_results.merge(df_county, left_on=['state', 'county'], right_on=['state_name', 'county_name'])\n",
    "df_results = df_results[['fips','state_name','county_name','total_votes_left','total_votes_right','won','candidate']]\n",
    "df_results['percentage'] = df_results['total_votes_left'] / df_results['total_votes_right']\n",
    "df_results = df_results[['fips','state_name','county_name','total_votes_right','percentage','won','candidate']] \n",
    "df_results['won'] = pd.DataFrame(df_results['won']).applymap(str)\n",
    "df_results = df_results[df_results['won'] == 'True'].reset_index(drop=True)\n",
    "print('Election Results Data', df_census.shape)\n",
    "\n",
    "# df_census\n",
    "df_census = df_census[['CTYNAME','POPESTIMATE2019']]\n",
    "df_census.columns = ['county','population']\n",
    "df_census['county'] = df_census['county'].str.lower() \n",
    "print('Census Population Data', df_census.shape)\n",
    "\n",
    "# df_covid\n",
    "df_covid = df_covid[['county','state','fips','total_cases','total_deaths']]\n",
    "df_covid = df_covid[df_covid.notna()]\n",
    "df_covid['fips'] = pd.DataFrame(df_covid['fips']).fillna(0.0).astype(int)\n",
    "print('Covid Results Data', df_covid.shape)"
   ]
  },
  {
   "cell_type": "code",
   "execution_count": 344,
   "metadata": {},
   "outputs": [
    {
     "name": "stdout",
     "output_type": "stream",
     "text": [
      "Cleaned Data (3038, 8)\n"
     ]
    }
   ],
   "source": [
    "df_merg = df_results.merge(df_mask, left_on='fips', right_on='fips',suffixes=('_left', '_right') )\n",
    "df_merg = df_merg.merge(df_covid, left_on='fips', right_on='fips',suffixes=('_left', '_right') )\n",
    "df_merg = df_merg[['fips','county_left','percentage','won','candidate','pos_mask_stat','neg_mask_stat','total_cases','total_deaths']]\n",
    "df_merg.columns = ['fips','county','percentage','won','candidate','pos_mask_stat','neg_mask_stat','total_cases','total_deaths']\n",
    "df_merg['death_rate'] = df['total_deaths'] / df['total_cases']\n",
    "df = df_merg[['fips','percentage','pos_mask_stat','neg_mask_stat','total_cases','total_deaths','death_rate','candidate']]\n",
    "df = df.drop_duplicates()\n",
    "df = df.dropna()\n",
    "\n",
    "print('Cleaned Data', df.shape)"
   ]
  },
  {
   "cell_type": "code",
   "execution_count": 345,
   "metadata": {},
   "outputs": [
    {
     "data": {
      "text/html": [
       "<div>\n",
       "<style scoped>\n",
       "    .dataframe tbody tr th:only-of-type {\n",
       "        vertical-align: middle;\n",
       "    }\n",
       "\n",
       "    .dataframe tbody tr th {\n",
       "        vertical-align: top;\n",
       "    }\n",
       "\n",
       "    .dataframe thead th {\n",
       "        text-align: right;\n",
       "    }\n",
       "</style>\n",
       "<table border=\"1\" class=\"dataframe\">\n",
       "  <thead>\n",
       "    <tr style=\"text-align: right;\">\n",
       "      <th></th>\n",
       "      <th>fips</th>\n",
       "      <th>percentage</th>\n",
       "      <th>pos_mask_stat</th>\n",
       "      <th>neg_mask_stat</th>\n",
       "      <th>total_cases</th>\n",
       "      <th>total_deaths</th>\n",
       "      <th>death_rate</th>\n",
       "      <th>candidate</th>\n",
       "    </tr>\n",
       "  </thead>\n",
       "  <tbody>\n",
       "    <tr>\n",
       "      <th>0</th>\n",
       "      <td>10001</td>\n",
       "      <td>0.511945</td>\n",
       "      <td>0.862</td>\n",
       "      <td>0.138</td>\n",
       "      <td>6292</td>\n",
       "      <td>139.0</td>\n",
       "      <td>0.022092</td>\n",
       "      <td>Joe Biden</td>\n",
       "    </tr>\n",
       "    <tr>\n",
       "      <th>1</th>\n",
       "      <td>10003</td>\n",
       "      <td>0.678065</td>\n",
       "      <td>0.919</td>\n",
       "      <td>0.081</td>\n",
       "      <td>23576</td>\n",
       "      <td>395.0</td>\n",
       "      <td>0.016754</td>\n",
       "      <td>Joe Biden</td>\n",
       "    </tr>\n",
       "    <tr>\n",
       "      <th>2</th>\n",
       "      <td>10005</td>\n",
       "      <td>0.550668</td>\n",
       "      <td>0.959</td>\n",
       "      <td>0.041</td>\n",
       "      <td>11499</td>\n",
       "      <td>269.0</td>\n",
       "      <td>0.023393</td>\n",
       "      <td>Donald Trump</td>\n",
       "    </tr>\n",
       "    <tr>\n",
       "      <th>3</th>\n",
       "      <td>11001</td>\n",
       "      <td>0.936662</td>\n",
       "      <td>0.907</td>\n",
       "      <td>0.094</td>\n",
       "      <td>23589</td>\n",
       "      <td>701.0</td>\n",
       "      <td>0.029717</td>\n",
       "      <td>Joe Biden</td>\n",
       "    </tr>\n",
       "    <tr>\n",
       "      <th>7</th>\n",
       "      <td>12001</td>\n",
       "      <td>0.629043</td>\n",
       "      <td>0.921</td>\n",
       "      <td>0.078</td>\n",
       "      <td>13567</td>\n",
       "      <td>104.0</td>\n",
       "      <td>0.007666</td>\n",
       "      <td>Joe Biden</td>\n",
       "    </tr>\n",
       "  </tbody>\n",
       "</table>\n",
       "</div>"
      ],
      "text/plain": [
       "    fips  percentage  pos_mask_stat  neg_mask_stat  total_cases  total_deaths  \\\n",
       "0  10001    0.511945          0.862          0.138         6292         139.0   \n",
       "1  10003    0.678065          0.919          0.081        23576         395.0   \n",
       "2  10005    0.550668          0.959          0.041        11499         269.0   \n",
       "3  11001    0.936662          0.907          0.094        23589         701.0   \n",
       "7  12001    0.629043          0.921          0.078        13567         104.0   \n",
       "\n",
       "   death_rate     candidate  \n",
       "0    0.022092     Joe Biden  \n",
       "1    0.016754     Joe Biden  \n",
       "2    0.023393  Donald Trump  \n",
       "3    0.029717     Joe Biden  \n",
       "7    0.007666     Joe Biden  "
      ]
     },
     "execution_count": 345,
     "metadata": {},
     "output_type": "execute_result"
    }
   ],
   "source": [
    "df.head()"
   ]
  },
  {
   "cell_type": "code",
   "execution_count": 346,
   "metadata": {},
   "outputs": [],
   "source": [
    "df['candidate'] = df['candidate'].str.replace('Donald Trump','0')\n",
    "df['candidate'] = df['candidate'].str.replace('Joe Biden','1')\n",
    "df['candidate'] = pd.DataFrame(df['candidate']).applymap(int)"
   ]
  },
  {
   "cell_type": "code",
   "execution_count": null,
   "metadata": {},
   "outputs": [],
   "source": []
  },
  {
   "cell_type": "code",
   "execution_count": 347,
   "metadata": {},
   "outputs": [
    {
     "data": {
      "text/plain": [
       "Text(0, 0.5, '% of death')"
      ]
     },
     "execution_count": 347,
     "metadata": {},
     "output_type": "execute_result"
    },
    {
     "data": {
      "image/png": "[encoded data removed]",
      "text/plain": [
       "<Figure size 432x288 with 1 Axes>"
      ]
     },
     "metadata": {
      "needs_background": "light"
     },
     "output_type": "display_data"
    }
   ],
   "source": [
    "##plotting \n",
    "plt.scatter(df['pos_mask_stat'], df['death_rate'], c = df['candidate'], alpha = .3, s=2)\n",
    "\n",
    "plt.title('mask vs death rate ')\n",
    "plt.xlabel(\"% of mask usage\")\n",
    "plt.ylabel('% of death')\n",
    "#plt.xlim(right=1,left=.4)"
   ]
  },
  {
   "cell_type": "code",
   "execution_count": 348,
   "metadata": {},
   "outputs": [],
   "source": [
    "# Biden vs. Trump\n",
    "\n",
    "## getting column for positive response to wearing mask \n",
    "df_biden = df[df['candidate'] == 1]\n",
    "df_trump = df[df['candidate'] == 0]"
   ]
  },
  {
   "cell_type": "code",
   "execution_count": 349,
   "metadata": {},
   "outputs": [
    {
     "data": {
      "text/html": [
       "<div>\n",
       "<style scoped>\n",
       "    .dataframe tbody tr th:only-of-type {\n",
       "        vertical-align: middle;\n",
       "    }\n",
       "\n",
       "    .dataframe tbody tr th {\n",
       "        vertical-align: top;\n",
       "    }\n",
       "\n",
       "    .dataframe thead th {\n",
       "        text-align: right;\n",
       "    }\n",
       "</style>\n",
       "<table border=\"1\" class=\"dataframe\">\n",
       "  <thead>\n",
       "    <tr style=\"text-align: right;\">\n",
       "      <th></th>\n",
       "      <th>fips</th>\n",
       "      <th>percentage</th>\n",
       "      <th>pos_mask_stat</th>\n",
       "      <th>neg_mask_stat</th>\n",
       "      <th>total_cases</th>\n",
       "      <th>total_deaths</th>\n",
       "      <th>death_rate</th>\n",
       "      <th>candidate</th>\n",
       "    </tr>\n",
       "  </thead>\n",
       "  <tbody>\n",
       "    <tr>\n",
       "      <th>count</th>\n",
       "      <td>479.000000</td>\n",
       "      <td>479.000000</td>\n",
       "      <td>479.000000</td>\n",
       "      <td>479.000000</td>\n",
       "      <td>479.000000</td>\n",
       "      <td>479.000000</td>\n",
       "      <td>479.000000</td>\n",
       "      <td>479.0</td>\n",
       "    </tr>\n",
       "    <tr>\n",
       "      <th>mean</th>\n",
       "      <td>29265.402923</td>\n",
       "      <td>0.606130</td>\n",
       "      <td>0.829353</td>\n",
       "      <td>0.170576</td>\n",
       "      <td>16360.974948</td>\n",
       "      <td>293.286013</td>\n",
       "      <td>0.019566</td>\n",
       "      <td>1.0</td>\n",
       "    </tr>\n",
       "    <tr>\n",
       "      <th>std</th>\n",
       "      <td>16469.416852</td>\n",
       "      <td>0.100662</td>\n",
       "      <td>0.099025</td>\n",
       "      <td>0.099039</td>\n",
       "      <td>37067.991230</td>\n",
       "      <td>686.632721</td>\n",
       "      <td>0.013665</td>\n",
       "      <td>0.0</td>\n",
       "    </tr>\n",
       "    <tr>\n",
       "      <th>min</th>\n",
       "      <td>1011.000000</td>\n",
       "      <td>0.411369</td>\n",
       "      <td>0.444000</td>\n",
       "      <td>0.009000</td>\n",
       "      <td>24.000000</td>\n",
       "      <td>0.000000</td>\n",
       "      <td>0.000000</td>\n",
       "      <td>1.0</td>\n",
       "    </tr>\n",
       "    <tr>\n",
       "      <th>25%</th>\n",
       "      <td>13230.000000</td>\n",
       "      <td>0.535195</td>\n",
       "      <td>0.773500</td>\n",
       "      <td>0.090500</td>\n",
       "      <td>1057.000000</td>\n",
       "      <td>19.000000</td>\n",
       "      <td>0.010561</td>\n",
       "      <td>1.0</td>\n",
       "    </tr>\n",
       "    <tr>\n",
       "      <th>50%</th>\n",
       "      <td>28157.000000</td>\n",
       "      <td>0.583199</td>\n",
       "      <td>0.852000</td>\n",
       "      <td>0.148000</td>\n",
       "      <td>4417.000000</td>\n",
       "      <td>62.000000</td>\n",
       "      <td>0.016041</td>\n",
       "      <td>1.0</td>\n",
       "    </tr>\n",
       "    <tr>\n",
       "      <th>75%</th>\n",
       "      <td>45014.000000</td>\n",
       "      <td>0.656764</td>\n",
       "      <td>0.909500</td>\n",
       "      <td>0.226500</td>\n",
       "      <td>17208.500000</td>\n",
       "      <td>285.000000</td>\n",
       "      <td>0.026677</td>\n",
       "      <td>1.0</td>\n",
       "    </tr>\n",
       "    <tr>\n",
       "      <th>max</th>\n",
       "      <td>56039.000000</td>\n",
       "      <td>1.213873</td>\n",
       "      <td>0.992000</td>\n",
       "      <td>0.555000</td>\n",
       "      <td>466459.000000</td>\n",
       "      <td>8000.000000</td>\n",
       "      <td>0.086111</td>\n",
       "      <td>1.0</td>\n",
       "    </tr>\n",
       "  </tbody>\n",
       "</table>\n",
       "</div>"
      ],
      "text/plain": [
       "               fips  percentage  pos_mask_stat  neg_mask_stat    total_cases  \\\n",
       "count    479.000000  479.000000     479.000000     479.000000     479.000000   \n",
       "mean   29265.402923    0.606130       0.829353       0.170576   16360.974948   \n",
       "std    16469.416852    0.100662       0.099025       0.099039   37067.991230   \n",
       "min     1011.000000    0.411369       0.444000       0.009000      24.000000   \n",
       "25%    13230.000000    0.535195       0.773500       0.090500    1057.000000   \n",
       "50%    28157.000000    0.583199       0.852000       0.148000    4417.000000   \n",
       "75%    45014.000000    0.656764       0.909500       0.226500   17208.500000   \n",
       "max    56039.000000    1.213873       0.992000       0.555000  466459.000000   \n",
       "\n",
       "       total_deaths  death_rate  candidate  \n",
       "count    479.000000  479.000000      479.0  \n",
       "mean     293.286013    0.019566        1.0  \n",
       "std      686.632721    0.013665        0.0  \n",
       "min        0.000000    0.000000        1.0  \n",
       "25%       19.000000    0.010561        1.0  \n",
       "50%       62.000000    0.016041        1.0  \n",
       "75%      285.000000    0.026677        1.0  \n",
       "max     8000.000000    0.086111        1.0  "
      ]
     },
     "execution_count": 349,
     "metadata": {},
     "output_type": "execute_result"
    }
   ],
   "source": [
    "df_biden.describe()"
   ]
  },
  {
   "cell_type": "code",
   "execution_count": 350,
   "metadata": {},
   "outputs": [
    {
     "data": {
      "text/html": [
       "<div>\n",
       "<style scoped>\n",
       "    .dataframe tbody tr th:only-of-type {\n",
       "        vertical-align: middle;\n",
       "    }\n",
       "\n",
       "    .dataframe tbody tr th {\n",
       "        vertical-align: top;\n",
       "    }\n",
       "\n",
       "    .dataframe thead th {\n",
       "        text-align: right;\n",
       "    }\n",
       "</style>\n",
       "<table border=\"1\" class=\"dataframe\">\n",
       "  <thead>\n",
       "    <tr style=\"text-align: right;\">\n",
       "      <th></th>\n",
       "      <th>fips</th>\n",
       "      <th>percentage</th>\n",
       "      <th>pos_mask_stat</th>\n",
       "      <th>neg_mask_stat</th>\n",
       "      <th>total_cases</th>\n",
       "      <th>total_deaths</th>\n",
       "      <th>death_rate</th>\n",
       "      <th>candidate</th>\n",
       "    </tr>\n",
       "  </thead>\n",
       "  <tbody>\n",
       "    <tr>\n",
       "      <th>count</th>\n",
       "      <td>2559.000000</td>\n",
       "      <td>2559.000000</td>\n",
       "      <td>2559.000000</td>\n",
       "      <td>2559.000000</td>\n",
       "      <td>2559.000000</td>\n",
       "      <td>2559.000000</td>\n",
       "      <td>2559.000000</td>\n",
       "      <td>2559.0</td>\n",
       "    </tr>\n",
       "    <tr>\n",
       "      <th>mean</th>\n",
       "      <td>30907.293865</td>\n",
       "      <td>0.723817</td>\n",
       "      <td>0.689661</td>\n",
       "      <td>0.310346</td>\n",
       "      <td>2482.525596</td>\n",
       "      <td>39.247362</td>\n",
       "      <td>0.017337</td>\n",
       "      <td>0.0</td>\n",
       "    </tr>\n",
       "    <tr>\n",
       "      <th>std</th>\n",
       "      <td>14746.249720</td>\n",
       "      <td>0.509450</td>\n",
       "      <td>0.123716</td>\n",
       "      <td>0.123722</td>\n",
       "      <td>4448.097283</td>\n",
       "      <td>82.890242</td>\n",
       "      <td>0.013098</td>\n",
       "      <td>0.0</td>\n",
       "    </tr>\n",
       "    <tr>\n",
       "      <th>min</th>\n",
       "      <td>1001.000000</td>\n",
       "      <td>0.385929</td>\n",
       "      <td>0.255000</td>\n",
       "      <td>0.022000</td>\n",
       "      <td>1.000000</td>\n",
       "      <td>0.000000</td>\n",
       "      <td>0.000000</td>\n",
       "      <td>0.0</td>\n",
       "    </tr>\n",
       "    <tr>\n",
       "      <th>25%</th>\n",
       "      <td>19092.000000</td>\n",
       "      <td>0.628944</td>\n",
       "      <td>0.604000</td>\n",
       "      <td>0.220000</td>\n",
       "      <td>476.000000</td>\n",
       "      <td>6.000000</td>\n",
       "      <td>0.008896</td>\n",
       "      <td>0.0</td>\n",
       "    </tr>\n",
       "    <tr>\n",
       "      <th>50%</th>\n",
       "      <td>29221.000000</td>\n",
       "      <td>0.716612</td>\n",
       "      <td>0.695000</td>\n",
       "      <td>0.305000</td>\n",
       "      <td>1105.000000</td>\n",
       "      <td>17.000000</td>\n",
       "      <td>0.014473</td>\n",
       "      <td>0.0</td>\n",
       "    </tr>\n",
       "    <tr>\n",
       "      <th>75%</th>\n",
       "      <td>46041.000000</td>\n",
       "      <td>0.784312</td>\n",
       "      <td>0.780000</td>\n",
       "      <td>0.396000</td>\n",
       "      <td>2553.500000</td>\n",
       "      <td>41.000000</td>\n",
       "      <td>0.022624</td>\n",
       "      <td>0.0</td>\n",
       "    </tr>\n",
       "    <tr>\n",
       "      <th>max</th>\n",
       "      <td>56045.000000</td>\n",
       "      <td>21.541126</td>\n",
       "      <td>0.978000</td>\n",
       "      <td>0.745000</td>\n",
       "      <td>69024.000000</td>\n",
       "      <td>2089.000000</td>\n",
       "      <td>0.153846</td>\n",
       "      <td>0.0</td>\n",
       "    </tr>\n",
       "  </tbody>\n",
       "</table>\n",
       "</div>"
      ],
      "text/plain": [
       "               fips   percentage  pos_mask_stat  neg_mask_stat   total_cases  \\\n",
       "count   2559.000000  2559.000000    2559.000000    2559.000000   2559.000000   \n",
       "mean   30907.293865     0.723817       0.689661       0.310346   2482.525596   \n",
       "std    14746.249720     0.509450       0.123716       0.123722   4448.097283   \n",
       "min     1001.000000     0.385929       0.255000       0.022000      1.000000   \n",
       "25%    19092.000000     0.628944       0.604000       0.220000    476.000000   \n",
       "50%    29221.000000     0.716612       0.695000       0.305000   1105.000000   \n",
       "75%    46041.000000     0.784312       0.780000       0.396000   2553.500000   \n",
       "max    56045.000000    21.541126       0.978000       0.745000  69024.000000   \n",
       "\n",
       "       total_deaths   death_rate  candidate  \n",
       "count   2559.000000  2559.000000     2559.0  \n",
       "mean      39.247362     0.017337        0.0  \n",
       "std       82.890242     0.013098        0.0  \n",
       "min        0.000000     0.000000        0.0  \n",
       "25%        6.000000     0.008896        0.0  \n",
       "50%       17.000000     0.014473        0.0  \n",
       "75%       41.000000     0.022624        0.0  \n",
       "max     2089.000000     0.153846        0.0  "
      ]
     },
     "execution_count": 350,
     "metadata": {},
     "output_type": "execute_result"
    }
   ],
   "source": [
    "df_trump.describe()"
   ]
  },
  {
   "cell_type": "code",
   "execution_count": 351,
   "metadata": {},
   "outputs": [
    {
     "name": "stdout",
     "output_type": "stream",
     "text": [
      "Coefficients: \n",
      " [[-0.00279215]]\n",
      "Mean squared error: 0.00\n",
      "Coefficient of determination: -0.02\n"
     ]
    }
   ],
   "source": [
    "## obtain X and Y arrays from dataset \n",
    "X_biden = np.array(df_biden['pos_mask_stat']).reshape(-1, 1)\n",
    "y_biden = np.array(df_biden['death_rate']).reshape(-1, 1)\n",
    "\n",
    "X_train_biden, X_test_biden, y_train_biden, y_test_biden = train_test_split(\n",
    "X_biden, y_biden, test_size=0.2, random_state = 1)\n",
    "\n",
    "regression_biden = linear_model.LinearRegression()\n",
    "\n",
    "## make regression\n",
    "regression_biden.fit(X_train_biden, y_train_biden)\n",
    "\n",
    "##prediction\n",
    "biden_pred = regression_biden.predict(X_test_biden)\n",
    "\n",
    "# The coefficients\n",
    "print('Coefficients: \\n', regression_biden.coef_)\n",
    "# The mean squared error\n",
    "print('Mean squared error: %.2f'\n",
    "      % mean_squared_error(y_test_biden, biden_pred))\n",
    "MSE = mean_squared_error(y_test_biden, biden_pred)\n",
    "# The coefficient of determination: 1 is perfect prediction\n",
    "print('Coefficient of determination: %.2f'\n",
    "      % r2_score(y_test_biden, biden_pred))"
   ]
  },
  {
   "cell_type": "code",
   "execution_count": 352,
   "metadata": {},
   "outputs": [
    {
     "data": {
      "text/plain": [
       "Text(0, 0.5, '% of death rate')"
      ]
     },
     "execution_count": 352,
     "metadata": {},
     "output_type": "execute_result"
    },
    {
     "data": {
      "image/png": "[encoded data removed]",
      "text/plain": [
       "<Figure size 432x288 with 1 Axes>"
      ]
     },
     "metadata": {
      "needs_background": "light"
     },
     "output_type": "display_data"
    }
   ],
   "source": [
    "##plotting \n",
    "plt.scatter(X_test_biden, y_test_biden, c = 'r', alpha = .3, s=8)\n",
    "plt.plot(X_test_biden, biden_pred, c = 'b', linewidth=2)\n",
    "plt.title('Voting for Biden vs Wearing Mask ')\n",
    "plt.xlabel(\"% of county's frequency of positive mask wearing\")\n",
    "plt.ylabel('% of death rate')"
   ]
  },
  {
   "cell_type": "code",
   "execution_count": 353,
   "metadata": {},
   "outputs": [
    {
     "name": "stdout",
     "output_type": "stream",
     "text": [
      "                            OLS Regression Results                            \n",
      "==============================================================================\n",
      "Dep. Variable:                      y   R-squared:                       0.001\n",
      "Model:                            OLS   Adj. R-squared:                 -0.001\n",
      "Method:                 Least Squares   F-statistic:                    0.2964\n",
      "Date:                Wed, 09 Dec 2020   Prob (F-statistic):              0.586\n",
      "Time:                        03:42:16   Log-Likelihood:                 1377.3\n",
      "No. Observations:                 479   AIC:                            -2751.\n",
      "Df Residuals:                     477   BIC:                            -2742.\n",
      "Df Model:                           1                                         \n",
      "Covariance Type:            nonrobust                                         \n",
      "==============================================================================\n",
      "                 coef    std err          t      P>|t|      [0.025      0.975]\n",
      "------------------------------------------------------------------------------\n",
      "const          0.0224      0.005      4.249      0.000       0.012       0.033\n",
      "x1            -0.0034      0.006     -0.544      0.586      -0.016       0.009\n",
      "==============================================================================\n",
      "Omnibus:                      160.640   Durbin-Watson:                   1.460\n",
      "Prob(Omnibus):                  0.000   Jarque-Bera (JB):              506.112\n",
      "Skew:                           1.573   Prob(JB):                    1.26e-110\n",
      "Kurtosis:                       6.932   Cond. No.                         17.1\n",
      "==============================================================================\n",
      "\n",
      "Warnings:\n",
      "[1] Standard Errors assume that the covariance matrix of the errors is correctly specified.\n"
     ]
    }
   ],
   "source": [
    "## summary of linear regression \n",
    "X = sm.add_constant(X_biden)\n",
    "est = sm.OLS(y_biden, X)\n",
    "est2 = est.fit()\n",
    "print(est2.summary())"
   ]
  },
  {
   "cell_type": "code",
   "execution_count": 355,
   "metadata": {},
   "outputs": [
    {
     "name": "stdout",
     "output_type": "stream",
     "text": [
      "Linear model: percentage of voting for biden =[0.02241833] + [-0.00343875] * positive mask wearing\n"
     ]
    }
   ],
   "source": [
    "## Cogs109's way of linear regression \n",
    "ones = np.ones((479,1))\n",
    "A_biden = np.hstack((ones, X_biden))\n",
    "\n",
    "## solve for the weight vector \n",
    "w = np.linalg.lstsq(A_biden, y_biden, rcond=None)[0]\n",
    "\n",
    "print('Linear model: percentage of voting for biden ={first} + {second} * positive mask wearing'.format(first = w[0], second = w[1]))"
   ]
  },
  {
   "cell_type": "code",
   "execution_count": 356,
   "metadata": {},
   "outputs": [
    {
     "name": "stdout",
     "output_type": "stream",
     "text": [
      "Coefficients: \n",
      " [[0.01403838]]\n",
      "Mean squared error: 0.00\n",
      "Coefficient of determination: 0.04\n"
     ]
    }
   ],
   "source": [
    "## obtain X and Y arrays from dataset \n",
    "X_trump = np.array(df_trump['pos_mask_stat']).reshape(-1, 1)\n",
    "y_trump = np.array(df_trump['death_rate']).reshape(-1, 1)\n",
    "\n",
    "X_train_trump, X_test_trump, y_train_trump, y_test_trump = train_test_split(\n",
    "X_trump, y_trump, test_size=0.2, random_state = 1)\n",
    "\n",
    "regression_trump = linear_model.LinearRegression()\n",
    "\n",
    "## make regression\n",
    "regression_trump.fit(X_train_trump, y_train_trump)\n",
    "\n",
    "##prediction\n",
    "trump_pred = regression_trump.predict(X_test_trump)\n",
    "\n",
    "# The coefficients\n",
    "print('Coefficients: \\n', regression_trump.coef_)\n",
    "# The mean squared error\n",
    "print('Mean squared error: %.2f'\n",
    "      % mean_squared_error(y_test_trump, trump_pred))\n",
    "MSE = mean_squared_error(y_test_trump, trump_pred)\n",
    "# The coefficient of determination: 1 is perfect prediction\n",
    "print('Coefficient of determination: %.2f'\n",
    "      % r2_score(y_test_trump, trump_pred))"
   ]
  },
  {
   "cell_type": "code",
   "execution_count": 357,
   "metadata": {},
   "outputs": [
    {
     "data": {
      "text/plain": [
       "Text(0, 0.5, '% of death rate')"
      ]
     },
     "execution_count": 357,
     "metadata": {},
     "output_type": "execute_result"
    },
    {
     "data": {
      "image/png": "[encoded data removed]",
      "text/plain": [
       "<Figure size 432x288 with 1 Axes>"
      ]
     },
     "metadata": {
      "needs_background": "light"
     },
     "output_type": "display_data"
    }
   ],
   "source": [
    "##plotting \n",
    "plt.scatter(X_test_trump, y_test_trump, c = 'r', alpha = .3, s=8)\n",
    "plt.plot(X_test_trump, trump_pred, c = 'b', linewidth=2)\n",
    "plt.title('Voting for trump vs Wearing Mask ')\n",
    "plt.xlabel(\"% of county's frequency of positive mask wearing\")\n",
    "plt.ylabel('% of death rate')"
   ]
  },
  {
   "cell_type": "code",
   "execution_count": 358,
   "metadata": {},
   "outputs": [
    {
     "ename": "AttributeError",
     "evalue": "'NoneType' object has no attribute 'shape'",
     "output_type": "error",
     "traceback": [
      "\u001b[1;31m---------------------------------------------------------------------------\u001b[0m",
      "\u001b[1;31mAttributeError\u001b[0m                            Traceback (most recent call last)",
      "\u001b[1;32m<ipython-input-358-4c45af9956e0>\u001b[0m in \u001b[0;36m<module>\u001b[1;34m\u001b[0m\n\u001b[0;32m      1\u001b[0m \u001b[1;31m## summary of linear regression\u001b[0m\u001b[1;33m\u001b[0m\u001b[1;33m\u001b[0m\u001b[1;33m\u001b[0m\u001b[0m\n\u001b[0;32m      2\u001b[0m \u001b[0mX\u001b[0m \u001b[1;33m=\u001b[0m \u001b[0msm\u001b[0m\u001b[1;33m.\u001b[0m\u001b[0madd_constant\u001b[0m\u001b[1;33m(\u001b[0m\u001b[0mX_trump\u001b[0m\u001b[1;33m)\u001b[0m\u001b[1;33m\u001b[0m\u001b[1;33m\u001b[0m\u001b[0m\n\u001b[1;32m----> 3\u001b[1;33m \u001b[0mest\u001b[0m \u001b[1;33m=\u001b[0m \u001b[0msm\u001b[0m\u001b[1;33m.\u001b[0m\u001b[0mOLS\u001b[0m\u001b[1;33m(\u001b[0m\u001b[0my_trump\u001b[0m\u001b[1;33m)\u001b[0m\u001b[1;33m\u001b[0m\u001b[1;33m\u001b[0m\u001b[0m\n\u001b[0m\u001b[0;32m      4\u001b[0m \u001b[0mest2\u001b[0m \u001b[1;33m=\u001b[0m \u001b[0mest\u001b[0m\u001b[1;33m.\u001b[0m\u001b[0mfit\u001b[0m\u001b[1;33m(\u001b[0m\u001b[1;33m)\u001b[0m\u001b[1;33m\u001b[0m\u001b[1;33m\u001b[0m\u001b[0m\n\u001b[0;32m      5\u001b[0m \u001b[0mprint\u001b[0m\u001b[1;33m(\u001b[0m\u001b[0mest2\u001b[0m\u001b[1;33m.\u001b[0m\u001b[0msummary\u001b[0m\u001b[1;33m(\u001b[0m\u001b[1;33m)\u001b[0m\u001b[1;33m)\u001b[0m\u001b[1;33m\u001b[0m\u001b[1;33m\u001b[0m\u001b[0m\n",
      "\u001b[1;32m~\\AppData\\Local\\Continuum\\anaconda3\\lib\\site-packages\\statsmodels\\regression\\linear_model.py\u001b[0m in \u001b[0;36m__init__\u001b[1;34m(self, endog, exog, missing, hasconst, **kwargs)\u001b[0m\n\u001b[0;32m    857\u001b[0m                  **kwargs):\n\u001b[0;32m    858\u001b[0m         super(OLS, self).__init__(endog, exog, missing=missing,\n\u001b[1;32m--> 859\u001b[1;33m                                   hasconst=hasconst, **kwargs)\n\u001b[0m\u001b[0;32m    860\u001b[0m         \u001b[1;32mif\u001b[0m \u001b[1;34m\"weights\"\u001b[0m \u001b[1;32min\u001b[0m \u001b[0mself\u001b[0m\u001b[1;33m.\u001b[0m\u001b[0m_init_keys\u001b[0m\u001b[1;33m:\u001b[0m\u001b[1;33m\u001b[0m\u001b[1;33m\u001b[0m\u001b[0m\n\u001b[0;32m    861\u001b[0m             \u001b[0mself\u001b[0m\u001b[1;33m.\u001b[0m\u001b[0m_init_keys\u001b[0m\u001b[1;33m.\u001b[0m\u001b[0mremove\u001b[0m\u001b[1;33m(\u001b[0m\u001b[1;34m\"weights\"\u001b[0m\u001b[1;33m)\u001b[0m\u001b[1;33m\u001b[0m\u001b[1;33m\u001b[0m\u001b[0m\n",
      "\u001b[1;32m~\\AppData\\Local\\Continuum\\anaconda3\\lib\\site-packages\\statsmodels\\regression\\linear_model.py\u001b[0m in \u001b[0;36m__init__\u001b[1;34m(self, endog, exog, weights, missing, hasconst, **kwargs)\u001b[0m\n\u001b[0;32m    700\u001b[0m             \u001b[0mweights\u001b[0m \u001b[1;33m=\u001b[0m \u001b[0mweights\u001b[0m\u001b[1;33m.\u001b[0m\u001b[0msqueeze\u001b[0m\u001b[1;33m(\u001b[0m\u001b[1;33m)\u001b[0m\u001b[1;33m\u001b[0m\u001b[1;33m\u001b[0m\u001b[0m\n\u001b[0;32m    701\u001b[0m         super(WLS, self).__init__(endog, exog, missing=missing,\n\u001b[1;32m--> 702\u001b[1;33m                                   weights=weights, hasconst=hasconst, **kwargs)\n\u001b[0m\u001b[0;32m    703\u001b[0m         \u001b[0mnobs\u001b[0m \u001b[1;33m=\u001b[0m \u001b[0mself\u001b[0m\u001b[1;33m.\u001b[0m\u001b[0mexog\u001b[0m\u001b[1;33m.\u001b[0m\u001b[0mshape\u001b[0m\u001b[1;33m[\u001b[0m\u001b[1;36m0\u001b[0m\u001b[1;33m]\u001b[0m\u001b[1;33m\u001b[0m\u001b[1;33m\u001b[0m\u001b[0m\n\u001b[0;32m    704\u001b[0m         \u001b[0mweights\u001b[0m \u001b[1;33m=\u001b[0m \u001b[0mself\u001b[0m\u001b[1;33m.\u001b[0m\u001b[0mweights\u001b[0m\u001b[1;33m\u001b[0m\u001b[1;33m\u001b[0m\u001b[0m\n",
      "\u001b[1;32m~\\AppData\\Local\\Continuum\\anaconda3\\lib\\site-packages\\statsmodels\\regression\\linear_model.py\u001b[0m in \u001b[0;36m__init__\u001b[1;34m(self, endog, exog, **kwargs)\u001b[0m\n\u001b[0;32m    188\u001b[0m     \"\"\"\n\u001b[0;32m    189\u001b[0m     \u001b[1;32mdef\u001b[0m \u001b[0m__init__\u001b[0m\u001b[1;33m(\u001b[0m\u001b[0mself\u001b[0m\u001b[1;33m,\u001b[0m \u001b[0mendog\u001b[0m\u001b[1;33m,\u001b[0m \u001b[0mexog\u001b[0m\u001b[1;33m,\u001b[0m \u001b[1;33m**\u001b[0m\u001b[0mkwargs\u001b[0m\u001b[1;33m)\u001b[0m\u001b[1;33m:\u001b[0m\u001b[1;33m\u001b[0m\u001b[1;33m\u001b[0m\u001b[0m\n\u001b[1;32m--> 190\u001b[1;33m         \u001b[0msuper\u001b[0m\u001b[1;33m(\u001b[0m\u001b[0mRegressionModel\u001b[0m\u001b[1;33m,\u001b[0m \u001b[0mself\u001b[0m\u001b[1;33m)\u001b[0m\u001b[1;33m.\u001b[0m\u001b[0m__init__\u001b[0m\u001b[1;33m(\u001b[0m\u001b[0mendog\u001b[0m\u001b[1;33m,\u001b[0m \u001b[0mexog\u001b[0m\u001b[1;33m,\u001b[0m \u001b[1;33m**\u001b[0m\u001b[0mkwargs\u001b[0m\u001b[1;33m)\u001b[0m\u001b[1;33m\u001b[0m\u001b[1;33m\u001b[0m\u001b[0m\n\u001b[0m\u001b[0;32m    191\u001b[0m         \u001b[0mself\u001b[0m\u001b[1;33m.\u001b[0m\u001b[0m_data_attr\u001b[0m\u001b[1;33m.\u001b[0m\u001b[0mextend\u001b[0m\u001b[1;33m(\u001b[0m\u001b[1;33m[\u001b[0m\u001b[1;34m'pinv_wexog'\u001b[0m\u001b[1;33m,\u001b[0m \u001b[1;34m'wendog'\u001b[0m\u001b[1;33m,\u001b[0m \u001b[1;34m'wexog'\u001b[0m\u001b[1;33m,\u001b[0m \u001b[1;34m'weights'\u001b[0m\u001b[1;33m]\u001b[0m\u001b[1;33m)\u001b[0m\u001b[1;33m\u001b[0m\u001b[1;33m\u001b[0m\u001b[0m\n\u001b[0;32m    192\u001b[0m \u001b[1;33m\u001b[0m\u001b[0m\n",
      "\u001b[1;32m~\\AppData\\Local\\Continuum\\anaconda3\\lib\\site-packages\\statsmodels\\base\\model.py\u001b[0m in \u001b[0;36m__init__\u001b[1;34m(self, endog, exog, **kwargs)\u001b[0m\n\u001b[0;32m    235\u001b[0m     \u001b[1;32mdef\u001b[0m \u001b[0m__init__\u001b[0m\u001b[1;33m(\u001b[0m\u001b[0mself\u001b[0m\u001b[1;33m,\u001b[0m \u001b[0mendog\u001b[0m\u001b[1;33m,\u001b[0m \u001b[0mexog\u001b[0m\u001b[1;33m=\u001b[0m\u001b[1;32mNone\u001b[0m\u001b[1;33m,\u001b[0m \u001b[1;33m**\u001b[0m\u001b[0mkwargs\u001b[0m\u001b[1;33m)\u001b[0m\u001b[1;33m:\u001b[0m\u001b[1;33m\u001b[0m\u001b[1;33m\u001b[0m\u001b[0m\n\u001b[0;32m    236\u001b[0m         \u001b[0msuper\u001b[0m\u001b[1;33m(\u001b[0m\u001b[0mLikelihoodModel\u001b[0m\u001b[1;33m,\u001b[0m \u001b[0mself\u001b[0m\u001b[1;33m)\u001b[0m\u001b[1;33m.\u001b[0m\u001b[0m__init__\u001b[0m\u001b[1;33m(\u001b[0m\u001b[0mendog\u001b[0m\u001b[1;33m,\u001b[0m \u001b[0mexog\u001b[0m\u001b[1;33m,\u001b[0m \u001b[1;33m**\u001b[0m\u001b[0mkwargs\u001b[0m\u001b[1;33m)\u001b[0m\u001b[1;33m\u001b[0m\u001b[1;33m\u001b[0m\u001b[0m\n\u001b[1;32m--> 237\u001b[1;33m         \u001b[0mself\u001b[0m\u001b[1;33m.\u001b[0m\u001b[0minitialize\u001b[0m\u001b[1;33m(\u001b[0m\u001b[1;33m)\u001b[0m\u001b[1;33m\u001b[0m\u001b[1;33m\u001b[0m\u001b[0m\n\u001b[0m\u001b[0;32m    238\u001b[0m \u001b[1;33m\u001b[0m\u001b[0m\n\u001b[0;32m    239\u001b[0m     \u001b[1;32mdef\u001b[0m \u001b[0minitialize\u001b[0m\u001b[1;33m(\u001b[0m\u001b[0mself\u001b[0m\u001b[1;33m)\u001b[0m\u001b[1;33m:\u001b[0m\u001b[1;33m\u001b[0m\u001b[1;33m\u001b[0m\u001b[0m\n",
      "\u001b[1;32m~\\AppData\\Local\\Continuum\\anaconda3\\lib\\site-packages\\statsmodels\\regression\\linear_model.py\u001b[0m in \u001b[0;36minitialize\u001b[1;34m(self)\u001b[0m\n\u001b[0;32m    196\u001b[0m         \u001b[0mself\u001b[0m\u001b[1;33m.\u001b[0m\u001b[0mwendog\u001b[0m \u001b[1;33m=\u001b[0m \u001b[0mself\u001b[0m\u001b[1;33m.\u001b[0m\u001b[0mwhiten\u001b[0m\u001b[1;33m(\u001b[0m\u001b[0mself\u001b[0m\u001b[1;33m.\u001b[0m\u001b[0mendog\u001b[0m\u001b[1;33m)\u001b[0m\u001b[1;33m\u001b[0m\u001b[1;33m\u001b[0m\u001b[0m\n\u001b[0;32m    197\u001b[0m         \u001b[1;31m# overwrite nobs from class Model:\u001b[0m\u001b[1;33m\u001b[0m\u001b[1;33m\u001b[0m\u001b[1;33m\u001b[0m\u001b[0m\n\u001b[1;32m--> 198\u001b[1;33m         \u001b[0mself\u001b[0m\u001b[1;33m.\u001b[0m\u001b[0mnobs\u001b[0m \u001b[1;33m=\u001b[0m \u001b[0mfloat\u001b[0m\u001b[1;33m(\u001b[0m\u001b[0mself\u001b[0m\u001b[1;33m.\u001b[0m\u001b[0mwexog\u001b[0m\u001b[1;33m.\u001b[0m\u001b[0mshape\u001b[0m\u001b[1;33m[\u001b[0m\u001b[1;36m0\u001b[0m\u001b[1;33m]\u001b[0m\u001b[1;33m)\u001b[0m\u001b[1;33m\u001b[0m\u001b[1;33m\u001b[0m\u001b[0m\n\u001b[0m\u001b[0;32m    199\u001b[0m \u001b[1;33m\u001b[0m\u001b[0m\n\u001b[0;32m    200\u001b[0m         \u001b[0mself\u001b[0m\u001b[1;33m.\u001b[0m\u001b[0m_df_model\u001b[0m \u001b[1;33m=\u001b[0m \u001b[1;32mNone\u001b[0m\u001b[1;33m\u001b[0m\u001b[1;33m\u001b[0m\u001b[0m\n",
      "\u001b[1;31mAttributeError\u001b[0m: 'NoneType' object has no attribute 'shape'"
     ]
    }
   ],
   "source": [
    "## summary of linear regression \n",
    "X = sm.add_constant(X_trump)\n",
    "est = sm.OLS(y_trump)\n",
    "est2 = est.fit()\n",
    "print(est2.summary())"
   ]
  },
  {
   "cell_type": "code",
   "execution_count": 360,
   "metadata": {},
   "outputs": [
    {
     "name": "stdout",
     "output_type": "stream",
     "text": [
      "Linear model: percentage of voting for biden =[0.00659059] + [0.01558277] * positive mask wearing\n"
     ]
    }
   ],
   "source": [
    "## Cogs109's way of linear regression \n",
    "ones = np.ones((2559,1))\n",
    "A_trump = np.hstack((ones, X_trump))\n",
    "\n",
    "## solve for the weight vector \n",
    "w = np.linalg.lstsq(A_trump, y_trump, rcond=None)[0]\n",
    "\n",
    "print('Linear model: percentage of voting for biden ={first} + {second} * positive mask wearing'.format(first = w[0], second = w[1]))"
   ]
  },
  {
   "cell_type": "code",
   "execution_count": 367,
   "metadata": {},
   "outputs": [],
   "source": [
    "# logistic regression"
   ]
  },
  {
   "cell_type": "code",
   "execution_count": 369,
   "metadata": {},
   "outputs": [
    {
     "data": {
      "text/html": [
       "<div>\n",
       "<style scoped>\n",
       "    .dataframe tbody tr th:only-of-type {\n",
       "        vertical-align: middle;\n",
       "    }\n",
       "\n",
       "    .dataframe tbody tr th {\n",
       "        vertical-align: top;\n",
       "    }\n",
       "\n",
       "    .dataframe thead th {\n",
       "        text-align: right;\n",
       "    }\n",
       "</style>\n",
       "<table border=\"1\" class=\"dataframe\">\n",
       "  <thead>\n",
       "    <tr style=\"text-align: right;\">\n",
       "      <th></th>\n",
       "      <th>percentage</th>\n",
       "      <th>pos_mask_stat</th>\n",
       "      <th>neg_mask_stat</th>\n",
       "      <th>total_cases</th>\n",
       "      <th>total_deaths</th>\n",
       "      <th>death_rate</th>\n",
       "      <th>candidate</th>\n",
       "    </tr>\n",
       "  </thead>\n",
       "  <tbody>\n",
       "    <tr>\n",
       "      <th>0</th>\n",
       "      <td>0.511945</td>\n",
       "      <td>0.862</td>\n",
       "      <td>0.138</td>\n",
       "      <td>6292</td>\n",
       "      <td>139.0</td>\n",
       "      <td>0.022092</td>\n",
       "      <td>1</td>\n",
       "    </tr>\n",
       "    <tr>\n",
       "      <th>1</th>\n",
       "      <td>0.678065</td>\n",
       "      <td>0.919</td>\n",
       "      <td>0.081</td>\n",
       "      <td>23576</td>\n",
       "      <td>395.0</td>\n",
       "      <td>0.016754</td>\n",
       "      <td>1</td>\n",
       "    </tr>\n",
       "    <tr>\n",
       "      <th>2</th>\n",
       "      <td>0.550668</td>\n",
       "      <td>0.959</td>\n",
       "      <td>0.041</td>\n",
       "      <td>11499</td>\n",
       "      <td>269.0</td>\n",
       "      <td>0.023393</td>\n",
       "      <td>0</td>\n",
       "    </tr>\n",
       "    <tr>\n",
       "      <th>3</th>\n",
       "      <td>0.936662</td>\n",
       "      <td>0.907</td>\n",
       "      <td>0.094</td>\n",
       "      <td>23589</td>\n",
       "      <td>701.0</td>\n",
       "      <td>0.029717</td>\n",
       "      <td>1</td>\n",
       "    </tr>\n",
       "    <tr>\n",
       "      <th>7</th>\n",
       "      <td>0.629043</td>\n",
       "      <td>0.921</td>\n",
       "      <td>0.078</td>\n",
       "      <td>13567</td>\n",
       "      <td>104.0</td>\n",
       "      <td>0.007666</td>\n",
       "      <td>1</td>\n",
       "    </tr>\n",
       "  </tbody>\n",
       "</table>\n",
       "</div>"
      ],
      "text/plain": [
       "   percentage  pos_mask_stat  neg_mask_stat  total_cases  total_deaths  \\\n",
       "0    0.511945          0.862          0.138         6292         139.0   \n",
       "1    0.678065          0.919          0.081        23576         395.0   \n",
       "2    0.550668          0.959          0.041        11499         269.0   \n",
       "3    0.936662          0.907          0.094        23589         701.0   \n",
       "7    0.629043          0.921          0.078        13567         104.0   \n",
       "\n",
       "   death_rate  candidate  \n",
       "0    0.022092          1  \n",
       "1    0.016754          1  \n",
       "2    0.023393          0  \n",
       "3    0.029717          1  \n",
       "7    0.007666          1  "
      ]
     },
     "execution_count": 369,
     "metadata": {},
     "output_type": "execute_result"
    }
   ],
   "source": [
    "df_log = df[['percentage','pos_mask_stat','neg_mask_stat','total_cases','total_deaths','death_rate','candidate']]\n",
    "df_log.head()"
   ]
  },
  {
   "cell_type": "code",
   "execution_count": 374,
   "metadata": {},
   "outputs": [
    {
     "name": "stdout",
     "output_type": "stream",
     "text": [
      "Accuracy of logistic regression classifier on test set: 0.87\n",
      "[[497  11]\n",
      " [ 69  31]]\n"
     ]
    }
   ],
   "source": [
    "X_ = np.array([df_log['percentage'], df_log['pos_mask_stat'],df_log['neg_mask_stat'],df_log['total_cases'],df_log['total_deaths'],df_log['death_rate']]).T\n",
    "y_ = np.array(df_log['candidate']).reshape((-1,))\n",
    "\n",
    "X_train, X_test, y_train, y_test = train_test_split(\n",
    "    X_, y_, test_size=0.2, random_state = 10)\n",
    "\n",
    "model = LogisticRegression()\n",
    "\n",
    "## make regression\n",
    "model.fit(X_train, y_train)\n",
    "\n",
    "##prediction\n",
    "pred = model.predict(X_test)\n",
    "\n",
    "##reporting model \n",
    "y_pred = model.predict(X_test)\n",
    "print('Accuracy of logistic regression classifier on test set: {:.2f}'.format(model.score(X_test, y_test)))\n",
    "\n",
    "## confusion matrix \n",
    "cm = confusion_matrix(y_test, y_pred)\n",
    "print(cm)"
   ]
  },
  {
   "cell_type": "code",
   "execution_count": 375,
   "metadata": {},
   "outputs": [
    {
     "name": "stdout",
     "output_type": "stream",
     "text": [
      "              precision    recall  f1-score   support\n",
      "\n",
      "           0       0.88      0.98      0.93       508\n",
      "           1       0.74      0.31      0.44       100\n",
      "\n",
      "    accuracy                           0.87       608\n",
      "   macro avg       0.81      0.64      0.68       608\n",
      "weighted avg       0.86      0.87      0.85       608\n",
      "\n"
     ]
    }
   ],
   "source": [
    "print(classification_report(y_test, y_pred))"
   ]
  },
  {
   "cell_type": "code",
   "execution_count": 361,
   "metadata": {},
   "outputs": [],
   "source": [
    "## helper Code"
   ]
  },
  {
   "cell_type": "code",
   "execution_count": null,
   "metadata": {},
   "outputs": [],
   "source": [
    "df_mask1 = df_mask[['county','fips','pos_mask_stat','neg_mask_stat']].dropna()\n",
    "print(df_mask1.shape)\n",
    "df_census = df_census.dropna()\n",
    "print(df_census.shape)\n",
    "\n",
    "df_mask1['county'] = df_mask1['county'].astype(str)\n",
    "df_census['county'] = df_census['county'].astype(str)\n",
    "\n",
    "df_merg = df_mask1.merge(df_census, left_on=\"county\",right_on=\"county\", how='inner')"
   ]
  }
 ],
 "metadata": {
  "kernelspec": {
   "display_name": "Python 3",
   "language": "python",
   "name": "python3"
  },
  "language_info": {
   "codemirror_mode": {
    "name": "ipython",
    "version": 3
   },
   "file_extension": ".py",
   "mimetype": "text/x-python",
   "name": "python",
   "nbconvert_exporter": "python",
   "pygments_lexer": "ipython3",
   "version": "3.7.7"
  }
 },
 "nbformat": 4,
 "nbformat_minor": 4
}
