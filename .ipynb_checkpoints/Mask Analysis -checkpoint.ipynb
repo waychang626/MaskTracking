{
 "cells": [
  {
   "cell_type": "code",
   "execution_count": 1,
   "metadata": {},
   "outputs": [],
   "source": [
    "## import\n",
    "import numpy as np \n",
    "import pandas as pd \n",
    "import seaborn as sns \n",
    "import matplotlib.pyplot as plt \n"
   ]
  },
  {
   "cell_type": "code",
   "execution_count": 8,
   "metadata": {},
   "outputs": [],
   "source": [
    "## reading in datasets \n",
    "df_mask = pd.read_csv('data/mask-use-by-county.csv')\n",
    "df_covid = pd.read_csv('data/daily-cases-and-death.csv')"
   ]
  },
  {
   "cell_type": "code",
   "execution_count": 110,
   "metadata": {},
   "outputs": [],
   "source": [
    "## changing df_mask county name \n",
    "df_mask = df_mask.rename(columns={'COUNTYFP': 'fips'})"
   ]
  },
  {
   "cell_type": "code",
   "execution_count": 71,
   "metadata": {},
   "outputs": [],
   "source": [
    "df_covid[df_covid['county'] == 'San Diego']\n",
    "df_covid = df_covid.sort_values(['state','county','date'])\n",
    "df_covid = df_covid.reset_index(drop = True)\n",
    "##reindex "
   ]
  },
  {
   "cell_type": "code",
   "execution_count": 73,
   "metadata": {
    "scrolled": true
   },
   "outputs": [],
   "source": [
    "## add daily cases and daily deaths in df_covid \n",
    "df_covid['NewDailyCases']  = df_covid['cases'].diff()\n",
    "df_covid['NewDailyDeaths'] = df_covid['deaths'].diff()"
   ]
  },
  {
   "cell_type": "code",
   "execution_count": 90,
   "metadata": {},
   "outputs": [],
   "source": [
    "## setting value of daily cases and death to 0 when county changes \n",
    "df_covid.loc[df_covid['county'].ne(df_covid['county'].shift().bfill()), 'NewDailyCases'] = 0\n",
    "df_covid.loc[df_covid['county'].ne(df_covid['county'].shift().bfill()), 'NewDailyDeaths'] = 0\n"
   ]
  },
  {
   "cell_type": "code",
   "execution_count": 94,
   "metadata": {
    "scrolled": true
   },
   "outputs": [
    {
     "data": {
      "text/plain": [
       "date              13830\n",
       "county            13830\n",
       "state             13830\n",
       "fips              12322\n",
       "cases             13830\n",
       "deaths            13830\n",
       "NewDailyCases     13830\n",
       "NewDailyDeaths    13830\n",
       "dtype: int64"
      ]
     },
     "execution_count": 94,
     "metadata": {},
     "output_type": "execute_result"
    }
   ],
   "source": [
    "## for some reason, there are negative values in daily cases and deaths still\n",
    "df_covid[df_covid['NewDailyCases'] < 0].count()\n",
    "\n"
   ]
  },
  {
   "cell_type": "code",
   "execution_count": 107,
   "metadata": {
    "scrolled": true
   },
   "outputs": [
    {
     "data": {
      "text/plain": [
       "-1.0      8969\n",
       "-2.0      1798\n",
       "-3.0       679\n",
       "-4.0       343\n",
       "-5.0       264\n",
       "          ... \n",
       "-304.0       1\n",
       "-264.0       1\n",
       "-711.0       1\n",
       "-423.0       1\n",
       "-121.0       1\n",
       "Name: NewDailyCases, Length: 279, dtype: int64"
      ]
     },
     "execution_count": 107,
     "metadata": {},
     "output_type": "execute_result"
    }
   ],
   "source": [
    "## inspection \n",
    "df_covid.loc[df_covid['NewDailyCases'] < 0, 'NewDailyCases'].value_counts()"
   ]
  },
  {
   "cell_type": "code",
   "execution_count": 111,
   "metadata": {},
   "outputs": [],
   "source": [
    "## regardless, merging these two datasets together. \n",
    "## leave cleaning NaN and negative values for later \n",
    "\n",
    "df_mask_covid = df_covid.merge(df_mask, how = 'outer', on ='fips' )"
   ]
  },
  {
   "cell_type": "code",
   "execution_count": 125,
   "metadata": {},
   "outputs": [
    {
     "data": {
      "text/html": [
       "<div>\n",
       "<style scoped>\n",
       "    .dataframe tbody tr th:only-of-type {\n",
       "        vertical-align: middle;\n",
       "    }\n",
       "\n",
       "    .dataframe tbody tr th {\n",
       "        vertical-align: top;\n",
       "    }\n",
       "\n",
       "    .dataframe thead th {\n",
       "        text-align: right;\n",
       "    }\n",
       "</style>\n",
       "<table border=\"1\" class=\"dataframe\">\n",
       "  <thead>\n",
       "    <tr style=\"text-align: right;\">\n",
       "      <th></th>\n",
       "      <th>date</th>\n",
       "      <th>county</th>\n",
       "      <th>state</th>\n",
       "      <th>fips</th>\n",
       "      <th>cases</th>\n",
       "      <th>deaths</th>\n",
       "      <th>NewDailyCases</th>\n",
       "      <th>NewDailyDeaths</th>\n",
       "      <th>NEVER</th>\n",
       "      <th>RARELY</th>\n",
       "      <th>SOMETIMES</th>\n",
       "      <th>FREQUENTLY</th>\n",
       "      <th>ALWAYS</th>\n",
       "    </tr>\n",
       "  </thead>\n",
       "  <tbody>\n",
       "    <tr>\n",
       "      <th>20953</th>\n",
       "      <td>2020-04-02</td>\n",
       "      <td>Unknown</td>\n",
       "      <td>Alaska</td>\n",
       "      <td>NaN</td>\n",
       "      <td>1.0</td>\n",
       "      <td>0.0</td>\n",
       "      <td>0.0</td>\n",
       "      <td>0.0</td>\n",
       "      <td>NaN</td>\n",
       "      <td>NaN</td>\n",
       "      <td>NaN</td>\n",
       "      <td>NaN</td>\n",
       "      <td>NaN</td>\n",
       "    </tr>\n",
       "    <tr>\n",
       "      <th>20954</th>\n",
       "      <td>2020-04-08</td>\n",
       "      <td>Unknown</td>\n",
       "      <td>Alaska</td>\n",
       "      <td>NaN</td>\n",
       "      <td>1.0</td>\n",
       "      <td>0.0</td>\n",
       "      <td>0.0</td>\n",
       "      <td>0.0</td>\n",
       "      <td>NaN</td>\n",
       "      <td>NaN</td>\n",
       "      <td>NaN</td>\n",
       "      <td>NaN</td>\n",
       "      <td>NaN</td>\n",
       "    </tr>\n",
       "    <tr>\n",
       "      <th>20955</th>\n",
       "      <td>2020-05-20</td>\n",
       "      <td>Unknown</td>\n",
       "      <td>Alaska</td>\n",
       "      <td>NaN</td>\n",
       "      <td>1.0</td>\n",
       "      <td>0.0</td>\n",
       "      <td>0.0</td>\n",
       "      <td>0.0</td>\n",
       "      <td>NaN</td>\n",
       "      <td>NaN</td>\n",
       "      <td>NaN</td>\n",
       "      <td>NaN</td>\n",
       "      <td>NaN</td>\n",
       "    </tr>\n",
       "    <tr>\n",
       "      <th>20956</th>\n",
       "      <td>2020-05-21</td>\n",
       "      <td>Unknown</td>\n",
       "      <td>Alaska</td>\n",
       "      <td>NaN</td>\n",
       "      <td>1.0</td>\n",
       "      <td>0.0</td>\n",
       "      <td>0.0</td>\n",
       "      <td>0.0</td>\n",
       "      <td>NaN</td>\n",
       "      <td>NaN</td>\n",
       "      <td>NaN</td>\n",
       "      <td>NaN</td>\n",
       "      <td>NaN</td>\n",
       "    </tr>\n",
       "    <tr>\n",
       "      <th>20957</th>\n",
       "      <td>2020-05-22</td>\n",
       "      <td>Unknown</td>\n",
       "      <td>Alaska</td>\n",
       "      <td>NaN</td>\n",
       "      <td>1.0</td>\n",
       "      <td>0.0</td>\n",
       "      <td>0.0</td>\n",
       "      <td>0.0</td>\n",
       "      <td>NaN</td>\n",
       "      <td>NaN</td>\n",
       "      <td>NaN</td>\n",
       "      <td>NaN</td>\n",
       "      <td>NaN</td>\n",
       "    </tr>\n",
       "  </tbody>\n",
       "</table>\n",
       "</div>"
      ],
      "text/plain": [
       "             date   county   state  fips  cases  deaths  NewDailyCases  \\\n",
       "20953  2020-04-02  Unknown  Alaska   NaN    1.0     0.0            0.0   \n",
       "20954  2020-04-08  Unknown  Alaska   NaN    1.0     0.0            0.0   \n",
       "20955  2020-05-20  Unknown  Alaska   NaN    1.0     0.0            0.0   \n",
       "20956  2020-05-21  Unknown  Alaska   NaN    1.0     0.0            0.0   \n",
       "20957  2020-05-22  Unknown  Alaska   NaN    1.0     0.0            0.0   \n",
       "\n",
       "       NewDailyDeaths  NEVER  RARELY  SOMETIMES  FREQUENTLY  ALWAYS  \n",
       "20953             0.0    NaN     NaN        NaN         NaN     NaN  \n",
       "20954             0.0    NaN     NaN        NaN         NaN     NaN  \n",
       "20955             0.0    NaN     NaN        NaN         NaN     NaN  \n",
       "20956             0.0    NaN     NaN        NaN         NaN     NaN  \n",
       "20957             0.0    NaN     NaN        NaN         NaN     NaN  "
      ]
     },
     "execution_count": 125,
     "metadata": {},
     "output_type": "execute_result"
    }
   ],
   "source": [
    "## there are a bunch of NaNs.... lets check them out! \n",
    "df_mask_covid[pd.isnull(df_mask_covid['fips'])].head()"
   ]
  },
  {
   "cell_type": "markdown",
   "metadata": {},
   "source": [
    "Seems like most of them are counties that the df_mask doesn't have the fips value of. Moving forward, decide to whether exclude those rows or add it from somewhere else"
   ]
  },
  {
   "cell_type": "code",
   "execution_count": null,
   "metadata": {},
   "outputs": [],
   "source": []
  }
 ],
 "metadata": {
  "kernelspec": {
   "display_name": "Python 3",
   "language": "python",
   "name": "python3"
  },
  "language_info": {
   "codemirror_mode": {
    "name": "ipython",
    "version": 3
   },
   "file_extension": ".py",
   "mimetype": "text/x-python",
   "name": "python",
   "nbconvert_exporter": "python",
   "pygments_lexer": "ipython3",
   "version": "3.7.6"
  }
 },
 "nbformat": 4,
 "nbformat_minor": 4
}
